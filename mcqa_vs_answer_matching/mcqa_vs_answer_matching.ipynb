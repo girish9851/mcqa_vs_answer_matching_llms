{
  "cells": [
    {
      "cell_type": "code",
      "source": [
        "elementary_qa = [\n",
        "    {\n",
        "        \"question\": \"What is 5 plus 3?\",\n",
        "        \"choices\": [\"6\", \"7\", \"8\", \"9\"],\n",
        "        \"answer\": 2,\n",
        "        \"reference_answer\": \"The sum of 5 and 3 is 8.\"\n",
        "    },\n",
        "    {\n",
        "        \"question\": \"What color do you get when you mix red and yellow?\",\n",
        "        \"choices\": [\"Orange\", \"Purple\", \"Green\", \"Pink\"],\n",
        "        \"answer\": 0,\n",
        "        \"reference_answer\": \"Mixing red and yellow gives the color orange.\"\n",
        "    },\n",
        "    {\n",
        "        \"question\": \"Which planet do we live on?\",\n",
        "        \"choices\": [\"Mars\", \"Venus\", \"Earth\", \"Jupiter\"],\n",
        "        \"answer\": 2,\n",
        "        \"reference_answer\": \"We live on the planet Earth.\"\n",
        "    },\n",
        "    {\n",
        "        \"question\": \"How many legs does a spider have?\",\n",
        "        \"choices\": [\"Six\", \"Eight\", \"Ten\", \"Four\"],\n",
        "        \"answer\": 1,\n",
        "        \"reference_answer\": \"A spider has eight legs.\"\n",
        "    },\n",
        "    {\n",
        "        \"question\": \"What do bees make?\",\n",
        "        \"choices\": [\"Milk\", \"Honey\", \"Wax\", \"Butter\"],\n",
        "        \"answer\": 1,\n",
        "        \"reference_answer\": \"Bees make honey.\"\n",
        "    },\n",
        "    {\n",
        "        \"question\": \"Which animal is known as the King of the Jungle?\",\n",
        "        \"choices\": [\"Tiger\", \"Elephant\", \"Lion\", \"Bear\"],\n",
        "        \"answer\": 2,\n",
        "        \"reference_answer\": \"The lion is known as the King of the Jungle.\"\n",
        "    },\n",
        "    {\n",
        "        \"question\": \"What is the opposite of hot?\",\n",
        "        \"choices\": [\"Warm\", \"Cold\", \"Cool\", \"Burning\"],\n",
        "        \"answer\": 1,\n",
        "        \"reference_answer\": \"The opposite of hot is cold.\"\n",
        "    },\n",
        "    {\n",
        "        \"question\": \"How many days are there in a week?\",\n",
        "        \"choices\": [\"5\", \"6\", \"7\", \"8\"],\n",
        "        \"answer\": 2,\n",
        "        \"reference_answer\": \"There are seven days in a week.\"\n",
        "    },\n",
        "    {\n",
        "        \"question\": \"What do you call a baby dog?\",\n",
        "        \"choices\": [\"Kitten\", \"Cub\", \"Puppy\", \"Calf\"],\n",
        "        \"answer\": 2,\n",
        "        \"reference_answer\": \"A baby dog is called a puppy.\"\n",
        "    },\n",
        "    {\n",
        "        \"question\": \"Which shape has 3 sides?\",\n",
        "        \"choices\": [\"Square\", \"Rectangle\", \"Circle\", \"Triangle\"],\n",
        "        \"answer\": 3,\n",
        "        \"reference_answer\": \"A triangle is a shape with three sides.\"\n",
        "    },\n",
        "    {\n",
        "        \"question\": \"Which season comes after winter?\",\n",
        "        \"choices\": [\"Spring\", \"Summer\", \"Fall\", \"Monsoon\"],\n",
        "        \"answer\": 0,\n",
        "        \"reference_answer\": \"The season that comes after winter is spring.\"\n",
        "    },\n",
        "    {\n",
        "        \"question\": \"What do we use to write on a blackboard?\",\n",
        "        \"choices\": [\"Pencil\", \"Pen\", \"Chalk\", \"Crayon\"],\n",
        "        \"answer\": 2,\n",
        "        \"reference_answer\": \"We use chalk to write on a blackboard.\"\n",
        "    },\n",
        "    {\n",
        "        \"question\": \"What is H2O commonly known as?\",\n",
        "        \"choices\": [\"Salt\", \"Water\", \"Oxygen\", \"Ice\"],\n",
        "        \"answer\": 1,\n",
        "        \"reference_answer\": \"H2O is commonly known as water.\"\n",
        "    },\n",
        "    {\n",
        "        \"question\": \"How many hours are there in a day?\",\n",
        "        \"choices\": [\"12\", \"24\", \"30\", \"36\"],\n",
        "        \"answer\": 1,\n",
        "        \"reference_answer\": \"There are 24 hours in a day.\"\n",
        "    },\n",
        "    {\n",
        "        \"question\": \"Which direction does the sun rise from?\",\n",
        "        \"choices\": [\"West\", \"North\", \"East\", \"South\"],\n",
        "        \"answer\": 2,\n",
        "        \"reference_answer\": \"The sun rises in the east.\"\n",
        "    },\n",
        "    {\n",
        "        \"question\": \"What part of the body helps us see?\",\n",
        "        \"choices\": [\"Ears\", \"Eyes\", \"Nose\", \"Mouth\"],\n",
        "        \"answer\": 1,\n",
        "        \"reference_answer\": \"The eyes help us to see.\"\n",
        "    },\n",
        "    {\n",
        "        \"question\": \"How many fingers do most people have?\",\n",
        "        \"choices\": [\"Eight\", \"Ten\", \"Twelve\", \"Nine\"],\n",
        "        \"answer\": 1,\n",
        "        \"reference_answer\": \"Most people have ten fingers.\"\n",
        "    },\n",
        "    {\n",
        "        \"question\": \"Which of these is a fruit?\",\n",
        "        \"choices\": [\"Potato\", \"Carrot\", \"Apple\", \"Onion\"],\n",
        "        \"answer\": 2,\n",
        "        \"reference_answer\": \"An apple is a fruit.\"\n",
        "    },\n",
        "    {\n",
        "        \"question\": \"What is the capital of India?\",\n",
        "        \"choices\": [\"Mumbai\", \"Delhi\", \"Kolkata\", \"Chennai\"],\n",
        "        \"answer\": 1,\n",
        "        \"reference_answer\": \"The capital of India is New Delhi.\"\n",
        "    },\n",
        "    {\n",
        "        \"question\": \"What gas do humans need to breathe?\",\n",
        "        \"choices\": [\"Carbon dioxide\", \"Oxygen\", \"Hydrogen\", \"Nitrogen\"],\n",
        "        \"answer\": 1,\n",
        "        \"reference_answer\": \"Humans need oxygen to breathe.\"\n",
        "    }\n",
        "]"
      ],
      "metadata": {
        "id": "9V7XI1ZOT60B"
      },
      "execution_count": 1,
      "outputs": []
    },
    {
      "cell_type": "code",
      "execution_count": 2,
      "metadata": {
        "id": "d9A_vxHU9y0T",
        "colab": {
          "base_uri": "https://localhost:8080/"
        },
        "outputId": "15e89969-06c8-4763-8656-df60d492c180"
      },
      "outputs": [
        {
          "output_type": "stream",
          "name": "stderr",
          "text": [
            "/usr/local/lib/python3.11/dist-packages/huggingface_hub/utils/_auth.py:94: UserWarning: \n",
            "The secret `HF_TOKEN` does not exist in your Colab secrets.\n",
            "To authenticate with the Hugging Face Hub, create a token in your settings tab (https://huggingface.co/settings/tokens), set it as secret in your Google Colab and restart your session.\n",
            "You will be able to reuse this secret in all of your notebooks.\n",
            "Please note that authentication is recommended but still optional to access public models or datasets.\n",
            "  warnings.warn(\n",
            "  0%|          | 0/20 [00:00<?, ?it/s]Setting `pad_token_id` to `eos_token_id`:32021 for open-end generation.\n",
            "Setting `pad_token_id` to `eos_token_id`:32021 for open-end generation.\n",
            "Setting `pad_token_id` to `eos_token_id`:151643 for open-end generation.\n"
          ]
        },
        {
          "output_type": "stream",
          "name": "stdout",
          "text": [
            "\n",
            "Q: What is 5 plus 3?\n",
            "MCQ model output:  | Correct: 8\n",
            "Generated answer: 5 + 3 = 8\n",
            "Reference answer: The sum of 5 and 3 is 8.\n"
          ]
        },
        {
          "output_type": "stream",
          "name": "stderr",
          "text": [
            "\r  5%|▌         | 1/20 [00:47<14:55, 47.12s/it]Setting `pad_token_id` to `eos_token_id`:32021 for open-end generation.\n",
            "Setting `pad_token_id` to `eos_token_id`:32021 for open-end generation.\n",
            "Setting `pad_token_id` to `eos_token_id`:151643 for open-end generation.\n"
          ]
        },
        {
          "output_type": "stream",
          "name": "stdout",
          "text": [
            "\n",
            "Q: What color do you get when you mix red and yellow?\n",
            "MCQ model output:  | Correct: Orange\n",
            "Generated answer: The color you get when you mix red and yellow is orange.\n",
            "Reference answer: Mixing red and yellow gives the color orange.\n"
          ]
        },
        {
          "output_type": "stream",
          "name": "stderr",
          "text": [
            "\r 10%|█         | 2/20 [01:42<15:35, 51.97s/it]Setting `pad_token_id` to `eos_token_id`:32021 for open-end generation.\n",
            "Setting `pad_token_id` to `eos_token_id`:32021 for open-end generation.\n",
            "Setting `pad_token_id` to `eos_token_id`:151643 for open-end generation.\n"
          ]
        },
        {
          "output_type": "stream",
          "name": "stdout",
          "text": [
            "\n",
            "Q: Which planet do we live on?\n",
            "MCQ model output: C | Correct: Earth\n",
            "Generated answer: We live on the Earth.\n",
            "Reference answer: We live on the planet Earth.\n"
          ]
        },
        {
          "output_type": "stream",
          "name": "stderr",
          "text": [
            "\r 15%|█▌        | 3/20 [02:28<14:00, 49.45s/it]Setting `pad_token_id` to `eos_token_id`:32021 for open-end generation.\n",
            "Setting `pad_token_id` to `eos_token_id`:32021 for open-end generation.\n",
            "Setting `pad_token_id` to `eos_token_id`:151643 for open-end generation.\n"
          ]
        },
        {
          "output_type": "stream",
          "name": "stdout",
          "text": [
            "\n",
            "Q: How many legs does a spider have?\n",
            "MCQ model output:  | Correct: Eight\n",
            "Generated answer: A spider has 8 legs.\n",
            "Reference answer: A spider has eight legs.\n"
          ]
        },
        {
          "output_type": "stream",
          "name": "stderr",
          "text": [
            "\r 20%|██        | 4/20 [03:15<12:55, 48.44s/it]Setting `pad_token_id` to `eos_token_id`:32021 for open-end generation.\n",
            "Setting `pad_token_id` to `eos_token_id`:32021 for open-end generation.\n",
            "Setting `pad_token_id` to `eos_token_id`:151643 for open-end generation.\n"
          ]
        },
        {
          "output_type": "stream",
          "name": "stdout",
          "text": [
            "\n",
            "Q: What do bees make?\n",
            "MCQ model output:  | Correct: Honey\n",
            "Generated answer: Bees do not make food. They are insects that eat other insects.\n",
            "Reference answer: Bees make honey.\n"
          ]
        },
        {
          "output_type": "stream",
          "name": "stderr",
          "text": [
            "\r 25%|██▌       | 5/20 [03:44<10:21, 41.41s/it]Setting `pad_token_id` to `eos_token_id`:32021 for open-end generation.\n",
            "Setting `pad_token_id` to `eos_token_id`:32021 for open-end generation.\n",
            "Setting `pad_token_id` to `eos_token_id`:151643 for open-end generation.\n"
          ]
        },
        {
          "output_type": "stream",
          "name": "stdout",
          "text": [
            "\n",
            "Q: Which animal is known as the King of the Jungle?\n",
            "MCQ model output: C | Correct: Lion\n",
            "Generated answer: Elephant\n",
            "Reference answer: The lion is known as the King of the Jungle.\n"
          ]
        },
        {
          "output_type": "stream",
          "name": "stderr",
          "text": [
            "\r 30%|███       | 6/20 [04:31<10:03, 43.12s/it]Setting `pad_token_id` to `eos_token_id`:32021 for open-end generation.\n",
            "Setting `pad_token_id` to `eos_token_id`:32021 for open-end generation.\n",
            "Setting `pad_token_id` to `eos_token_id`:151643 for open-end generation.\n"
          ]
        },
        {
          "output_type": "stream",
          "name": "stdout",
          "text": [
            "\n",
            "Q: What is the opposite of hot?\n",
            "MCQ model output:  | Correct: Cold\n",
            "Generated answer: cold\n",
            "Reference answer: The opposite of hot is cold.\n"
          ]
        },
        {
          "output_type": "stream",
          "name": "stderr",
          "text": [
            "\r 35%|███▌      | 7/20 [05:22<09:56, 45.87s/it]Setting `pad_token_id` to `eos_token_id`:32021 for open-end generation.\n",
            "Setting `pad_token_id` to `eos_token_id`:32021 for open-end generation.\n",
            "Setting `pad_token_id` to `eos_token_id`:151643 for open-end generation.\n"
          ]
        },
        {
          "output_type": "stream",
          "name": "stdout",
          "text": [
            "\n",
            "Q: How many days are there in a week?\n",
            "MCQ model output:  | Correct: 7\n",
            "Generated answer: There are 7 days in a week.\n",
            "Reference answer: There are seven days in a week.\n"
          ]
        },
        {
          "output_type": "stream",
          "name": "stderr",
          "text": [
            "\r 40%|████      | 8/20 [05:48<07:54, 39.52s/it]Setting `pad_token_id` to `eos_token_id`:32021 for open-end generation.\n",
            "Setting `pad_token_id` to `eos_token_id`:32021 for open-end generation.\n",
            "Setting `pad_token_id` to `eos_token_id`:151643 for open-end generation.\n"
          ]
        },
        {
          "output_type": "stream",
          "name": "stdout",
          "text": [
            "\n",
            "Q: What do you call a baby dog?\n",
            "MCQ model output: A | Correct: Puppy\n",
            "Generated answer: Baby Dog\n",
            "Reference answer: A baby dog is called a puppy.\n"
          ]
        },
        {
          "output_type": "stream",
          "name": "stderr",
          "text": [
            "\r 45%|████▌     | 9/20 [06:33<07:32, 41.11s/it]Setting `pad_token_id` to `eos_token_id`:32021 for open-end generation.\n",
            "Setting `pad_token_id` to `eos_token_id`:32021 for open-end generation.\n",
            "Setting `pad_token_id` to `eos_token_id`:151643 for open-end generation.\n"
          ]
        },
        {
          "output_type": "stream",
          "name": "stdout",
          "text": [
            "\n",
            "Q: Which shape has 3 sides?\n",
            "MCQ model output: B | Correct: Triangle\n",
            "Generated answer: The shape with 3 sides is a triangle.\n",
            "Reference answer: A triangle is a shape with three sides.\n"
          ]
        },
        {
          "output_type": "stream",
          "name": "stderr",
          "text": [
            "\r 50%|█████     | 10/20 [07:01<06:12, 37.21s/it]Setting `pad_token_id` to `eos_token_id`:32021 for open-end generation.\n",
            "Setting `pad_token_id` to `eos_token_id`:32021 for open-end generation.\n",
            "Setting `pad_token_id` to `eos_token_id`:151643 for open-end generation.\n"
          ]
        },
        {
          "output_type": "stream",
          "name": "stdout",
          "text": [
            "\n",
            "Q: Which season comes after winter?\n",
            "MCQ model output:  | Correct: Spring\n",
            "Generated answer: The season that comes after winter is Autumn.\n",
            "Reference answer: The season that comes after winter is spring.\n"
          ]
        },
        {
          "output_type": "stream",
          "name": "stderr",
          "text": [
            "\r 55%|█████▌    | 11/20 [07:31<05:14, 34.98s/it]Setting `pad_token_id` to `eos_token_id`:32021 for open-end generation.\n",
            "Setting `pad_token_id` to `eos_token_id`:32021 for open-end generation.\n",
            "Setting `pad_token_id` to `eos_token_id`:151643 for open-end generation.\n"
          ]
        },
        {
          "output_type": "stream",
          "name": "stdout",
          "text": [
            "\n",
            "Q: What do we use to write on a blackboard?\n",
            "MCQ model output: C | Correct: Chalk\n",
            "Generated answer: Blackboard\n",
            "Reference answer: We use chalk to write on a blackboard.\n"
          ]
        },
        {
          "output_type": "stream",
          "name": "stderr",
          "text": [
            "\r 60%|██████    | 12/20 [08:16<05:04, 38.11s/it]Setting `pad_token_id` to `eos_token_id`:32021 for open-end generation.\n",
            "Setting `pad_token_id` to `eos_token_id`:32021 for open-end generation.\n",
            "Setting `pad_token_id` to `eos_token_id`:151643 for open-end generation.\n"
          ]
        },
        {
          "output_type": "stream",
          "name": "stdout",
          "text": [
            "\n",
            "Q: What is H2O commonly known as?\n",
            "MCQ model output: C | Correct: Water\n",
            "Generated answer: H2O is often referred to as \"Hydrogen\" or \"Water\" in the scientific community. It is a chemical compound that is the primary constituent of water.\n",
            "Reference answer: H2O is commonly known as water.\n"
          ]
        },
        {
          "output_type": "stream",
          "name": "stderr",
          "text": [
            "\r 65%|██████▌   | 13/20 [09:01<04:41, 40.19s/it]Setting `pad_token_id` to `eos_token_id`:32021 for open-end generation.\n",
            "Setting `pad_token_id` to `eos_token_id`:32021 for open-end generation.\n",
            "Setting `pad_token_id` to `eos_token_id`:151643 for open-end generation.\n"
          ]
        },
        {
          "output_type": "stream",
          "name": "stdout",
          "text": [
            "\n",
            "Q: How many hours are there in a day?\n",
            "MCQ model output: C | Correct: 24\n",
            "Generated answer: There are 24 hours in a day.\n",
            "Reference answer: There are 24 hours in a day.\n"
          ]
        },
        {
          "output_type": "stream",
          "name": "stderr",
          "text": [
            "\r 70%|███████   | 14/20 [09:32<03:44, 37.38s/it]Setting `pad_token_id` to `eos_token_id`:32021 for open-end generation.\n",
            "Setting `pad_token_id` to `eos_token_id`:32021 for open-end generation.\n",
            "Setting `pad_token_id` to `eos_token_id`:151643 for open-end generation.\n"
          ]
        },
        {
          "output_type": "stream",
          "name": "stdout",
          "text": [
            "\n",
            "Q: Which direction does the sun rise from?\n",
            "MCQ model output: C | Correct: East\n",
            "Generated answer: The sun rises from the west\n",
            "Reference answer: The sun rises in the east.\n"
          ]
        },
        {
          "output_type": "stream",
          "name": "stderr",
          "text": [
            "\r 75%|███████▌  | 15/20 [10:18<03:18, 39.77s/it]Setting `pad_token_id` to `eos_token_id`:32021 for open-end generation.\n",
            "Setting `pad_token_id` to `eos_token_id`:32021 for open-end generation.\n",
            "Setting `pad_token_id` to `eos_token_id`:151643 for open-end generation.\n"
          ]
        },
        {
          "output_type": "stream",
          "name": "stdout",
          "text": [
            "\n",
            "Q: What part of the body helps us see?\n",
            "MCQ model output: C | Correct: Eyes\n",
            "Generated answer: The brain helps us see.\n",
            "Reference answer: The eyes help us to see.\n"
          ]
        },
        {
          "output_type": "stream",
          "name": "stderr",
          "text": [
            "\r 80%|████████  | 16/20 [11:04<02:46, 41.65s/it]Setting `pad_token_id` to `eos_token_id`:32021 for open-end generation.\n",
            "Setting `pad_token_id` to `eos_token_id`:32021 for open-end generation.\n",
            "Setting `pad_token_id` to `eos_token_id`:151643 for open-end generation.\n"
          ]
        },
        {
          "output_type": "stream",
          "name": "stdout",
          "text": [
            "\n",
            "Q: How many fingers do most people have?\n",
            "MCQ model output: C | Correct: Ten\n",
            "Generated answer: As an AI, I don't have personal experiences or emotions, so I can't provide a specific number. However, it's generally considered that most people have around 5-6 fingers.\n",
            "Reference answer: Most people have ten fingers.\n"
          ]
        },
        {
          "output_type": "stream",
          "name": "stderr",
          "text": [
            "\r 85%|████████▌ | 17/20 [11:47<02:06, 42.27s/it]Setting `pad_token_id` to `eos_token_id`:32021 for open-end generation.\n",
            "Setting `pad_token_id` to `eos_token_id`:32021 for open-end generation.\n",
            "Setting `pad_token_id` to `eos_token_id`:151643 for open-end generation.\n"
          ]
        },
        {
          "output_type": "stream",
          "name": "stdout",
          "text": [
            "\n",
            "Q: Which of these is a fruit?\n",
            "MCQ model output: C | Correct: Apple\n",
            "Generated answer: Neither of these is a fruit.\n",
            "Reference answer: An apple is a fruit.\n"
          ]
        },
        {
          "output_type": "stream",
          "name": "stderr",
          "text": [
            "\r 90%|█████████ | 18/20 [12:29<01:24, 42.21s/it]Setting `pad_token_id` to `eos_token_id`:32021 for open-end generation.\n",
            "Setting `pad_token_id` to `eos_token_id`:32021 for open-end generation.\n",
            "Setting `pad_token_id` to `eos_token_id`:151643 for open-end generation.\n"
          ]
        },
        {
          "output_type": "stream",
          "name": "stdout",
          "text": [
            "\n",
            "Q: What is the capital of India?\n",
            "MCQ model output: C | Correct: Delhi\n",
            "Generated answer: New Delhi\n",
            "Reference answer: The capital of India is New Delhi.\n"
          ]
        },
        {
          "output_type": "stream",
          "name": "stderr",
          "text": [
            "\r 95%|█████████▌| 19/20 [13:13<00:42, 42.55s/it]Setting `pad_token_id` to `eos_token_id`:32021 for open-end generation.\n",
            "Setting `pad_token_id` to `eos_token_id`:32021 for open-end generation.\n",
            "Setting `pad_token_id` to `eos_token_id`:151643 for open-end generation.\n"
          ]
        },
        {
          "output_type": "stream",
          "name": "stdout",
          "text": [
            "\n",
            "Q: What gas do humans need to breathe?\n",
            "MCQ model output: C | Correct: Oxygen\n",
            "Generated answer: A human\n",
            "Reference answer: Humans need oxygen to breathe.\n"
          ]
        },
        {
          "output_type": "stream",
          "name": "stderr",
          "text": [
            "100%|██████████| 20/20 [13:57<00:00, 41.85s/it]"
          ]
        },
        {
          "output_type": "stream",
          "name": "stdout",
          "text": [
            "\n",
            "Final Results:\n",
            "MCQ Accuracy: 25.0%\n",
            "Answer Matching Accuracy: 45.0%\n"
          ]
        },
        {
          "output_type": "stream",
          "name": "stderr",
          "text": [
            "\n"
          ]
        }
      ],
      "source": [
        "import torch\n",
        "from transformers import AutoTokenizer, AutoModelForCausalLM\n",
        "from tqdm import tqdm\n",
        "import string\n",
        "\n",
        "# ----- CONFIGURATION -----\n",
        "GEN_MODEL = \"deepseek-ai/deepseek-coder-1.3b-instruct\"   # For generation\n",
        "MATCH_MODEL = \"Qwen/Qwen1.5-0.5B\"    # For answer matching\n",
        "DEVICE = \"cuda\" if torch.cuda.is_available() else \"cpu\"\n",
        "\n",
        "# ----- MODEL LOADING -----\n",
        "def load_model(name):\n",
        "    tokenizer = AutoTokenizer.from_pretrained(name, trust_remote_code=True)\n",
        "    model = AutoModelForCausalLM.from_pretrained(name).to(DEVICE)\n",
        "    return tokenizer, model\n",
        "\n",
        "tokenizer_gen, model_gen = load_model(GEN_MODEL)\n",
        "tokenizer_match, model_match = load_model(MATCH_MODEL)\n",
        "\n",
        "# ----- PROMPTS -----\n",
        "def mcq_prompt(q, opts):\n",
        "    opts_text = \"\\n\".join([f\"{string.ascii_uppercase[i]}. {c}\" for i, c in enumerate(opts)])\n",
        "    return f\"Q: {q}\\nOptions:\\n{opts_text}\\nAnswer:\"\n",
        "\n",
        "def gen_prompt(q):\n",
        "    return f\"Q: {q}\\nAnswer:\"\n",
        "\n",
        "# ----- GENERATION FUNCTION -----\n",
        "def generate(model, tokenizer, prompt, max_new=1):\n",
        "    inputs = tokenizer(prompt, return_tensors=\"pt\").to(DEVICE)\n",
        "    outputs = model.generate(**inputs, max_new_tokens=max_new, do_sample=False)\n",
        "    text = tokenizer.decode(outputs[0], skip_special_tokens=True)\n",
        "    return text.split(\"Answer:\")[-1].split(\"\\n\")[0].strip()\n",
        "\n",
        "# ----- MCQ Label Extraction -----\n",
        "def mcq_label(pred, opts):\n",
        "    p = pred.strip()\n",
        "    if p and p[0] in string.ascii_uppercase:\n",
        "        idx = ord(p[0]) - ord(\"A\")\n",
        "        if 0 <= idx < len(opts):\n",
        "            return idx\n",
        "    for i, o in enumerate(opts):\n",
        "        if o.lower() in p.lower():\n",
        "            return i\n",
        "    return -1\n",
        "\n",
        "# ----- LLM Matcher -----\n",
        "def match_llm(q, ref, ans):\n",
        "    prompt = (\n",
        "        f\"You are a strict grader. Determine if the candidate answer is semantically equivalent to the correct answer.\\n\\n\"\n",
        "        f\"Question: {q}\\n\"\n",
        "        f\"Correct Answer: {ref}\\n\"\n",
        "        f\"Candidate Answer: {ans}\\n\\n\"\n",
        "        f\"Is the candidate answer correct? Answer only with 'Yes' or 'No'.\\n\"\n",
        "        f\"Answer:\"\n",
        "    )\n",
        "    out = generate(model_match, tokenizer_match, prompt, max_new=4).strip().lower()\n",
        "    return out.startswith(\"yes\")\n",
        "\n",
        "# ----- EVALUATION -----\n",
        "results = {\n",
        "    \"mcq_acc\": 0,\n",
        "    \"match_acc\": 0\n",
        "}\n",
        "\n",
        "for ex in tqdm(elementary_qa):\n",
        "    q = ex[\"question\"]\n",
        "    opts = ex[\"choices\"]\n",
        "    correct = ex[\"answer\"]\n",
        "    ref = ex[\"reference_answer\"]\n",
        "\n",
        "    # MCQ - generate only 1 token (letter or short)\n",
        "    mcq_out = generate(model_gen, tokenizer_gen, mcq_prompt(q, opts), max_new=1)\n",
        "\n",
        "    # Answer Matching - full sentence\n",
        "    gen_out = generate(model_gen, tokenizer_gen, gen_prompt(q), max_new=64)\n",
        "\n",
        "    print(f\"\\nQ: {q}\")\n",
        "    print(f\"MCQ model output: {mcq_out} | Correct: {opts[correct]}\")\n",
        "    print(f\"Generated answer: {gen_out}\")\n",
        "    print(f\"Reference answer: {ref}\")\n",
        "\n",
        "    if mcq_label(mcq_out, opts) == correct:\n",
        "        results[\"mcq_acc\"] += 1\n",
        "\n",
        "    if match_llm(q, ref, gen_out):\n",
        "        results[\"match_acc\"] += 1\n",
        "\n",
        "results[\"mcq_acc\"] /= len(elementary_qa)\n",
        "results[\"match_acc\"] /= len(elementary_qa)\n",
        "\n",
        "print(\"\\nFinal Results:\")\n",
        "print(f\"MCQ Accuracy: {results['mcq_acc']*100:.1f}%\")\n",
        "print(f\"Answer Matching Accuracy: {results['match_acc']*100:.1f}%\")\n"
      ]
    }
  ],
  "metadata": {
    "colab": {
      "provenance": []
    },
    "kernelspec": {
      "display_name": "Python 3",
      "name": "python3"
    },
    "language_info": {
      "name": "python"
    }
  },
  "nbformat": 4,
  "nbformat_minor": 0
}